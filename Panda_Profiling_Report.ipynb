{
 "cells": [
  {
   "cell_type": "code",
   "execution_count": null,
   "id": "81b1e6f4",
   "metadata": {},
   "outputs": [],
   "source": [
    "# for running this code user must have pandas profiling library \n",
    "# !pip install ydata-profiling\n",
    "\n",
    "\n",
    "import pandas as pd\n",
    "from pandas_profiling import ProfileReport\n",
    "\n",
    "# Read the CSV file into a DataFrame\n",
    "df = pd.read_csv('NIRF_RANKING.csv')\n",
    "\n",
    "# Generate a profile report\n",
    "profile = ProfileReport(df)\n",
    "\n",
    "# Save the profile report as an HTML file\n",
    "profile.to_file(output_file=\"NIRF.html\")"
   ]
  }
 ],
 "metadata": {
  "kernelspec": {
   "display_name": "Python 3 (ipykernel)",
   "language": "python",
   "name": "python3"
  },
  "language_info": {
   "codemirror_mode": {
    "name": "ipython",
    "version": 3
   },
   "file_extension": ".py",
   "mimetype": "text/x-python",
   "name": "python",
   "nbconvert_exporter": "python",
   "pygments_lexer": "ipython3",
   "version": "3.11.3"
  }
 },
 "nbformat": 4,
 "nbformat_minor": 5
}
